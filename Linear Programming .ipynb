{
 "cells": [
  {
   "cell_type": "code",
   "execution_count": 1,
   "metadata": {},
   "outputs": [
    {
     "name": "stdout",
     "output_type": "stream",
     "text": [
      "Collecting pulp\n",
      "  Downloading https://files.pythonhosted.org/packages/fb/34/ff5915ff6bae91cfb7c4cc22c3c369a6aea0b2127045dd5f308a91c260ac/PuLP-2.0-py3-none-any.whl (39.2MB)\n",
      "Requirement already satisfied: pyparsing>=2.0.1 in c:\\programdata\\anaconda3\\envs\\nlp2\\lib\\site-packages (from pulp) (2.3.0)\n",
      "Installing collected packages: pulp\n",
      "Successfully installed pulp-2.0\n"
     ]
    }
   ],
   "source": [
    "!pip install pulp"
   ]
  },
  {
   "cell_type": "code",
   "execution_count": 1,
   "metadata": {},
   "outputs": [],
   "source": [
    "from pulp import *\n",
    "import pandas as pd\n",
    "import ipywidgets as widgets\n",
    "import numpy as np\n",
    "pd.set_option('display.max_rows', 1000)\n",
    "pd.set_option('display.max_columns', 1000)\n",
    "pd.set_option('display.width', 1000)"
   ]
  },
  {
   "cell_type": "markdown",
   "metadata": {},
   "source": [
    "### Importing Data"
   ]
  },
  {
   "cell_type": "code",
   "execution_count": 3,
   "metadata": {},
   "outputs": [],
   "source": [
    "lp_data = pd.read_pickle(\"./INPUT/lp_data.pkl\")\n",
    "final_packs = pd.read_pickle(\"./INPUT/final_packs.pkl\")"
   ]
  },
  {
   "cell_type": "code",
   "execution_count": 4,
   "metadata": {},
   "outputs": [],
   "source": [
    "#Dictionary of pack prices to use for the constraint \n",
    "smry = final_packs.groupby('pack_name')['processed_price_float'].first().reset_index(drop=False) \n",
    "pack_prices_dict = {}\n",
    "for idx, row in smry.iterrows():\n",
    "    pack_prices_dict[row['pack_name']] = row['processed_price_float']"
   ]
  },
  {
   "cell_type": "code",
   "execution_count": 5,
   "metadata": {},
   "outputs": [
    {
     "data": {
      "application/vnd.jupyter.widget-view+json": {
       "model_id": "64db488a6e6f41e8af1d4197f120b42b",
       "version_major": 2,
       "version_minor": 0
      },
      "text/plain": [
       "SelectMultiple(description='Selectable Channels', index=(0,), options=('Zoom', 'News18 Urdu', 'Zee News', 'Zee…"
      ]
     },
     "metadata": {},
     "output_type": "display_data"
    }
   ],
   "source": [
    "ch_selector = widgets.SelectMultiple(\n",
    "    options=lp_data['Channel Name'],\n",
    "    value=['Zoom'],\n",
    "    description='Selectable Channels',\n",
    "    disabled=False\n",
    ")\n",
    "\n",
    "display(ch_selector)"
   ]
  },
  {
   "cell_type": "code",
   "execution_count": 8,
   "metadata": {},
   "outputs": [
    {
     "data": {
      "text/plain": [
       "(129, 4)"
      ]
     },
     "execution_count": 8,
     "metadata": {},
     "output_type": "execute_result"
    }
   ],
   "source": [
    "lp_channels = list(ch_selector.value)\n",
    "lp_data[lp_data['Channel Name'].isin(lp_channels)].shape"
   ]
  },
  {
   "cell_type": "code",
   "execution_count": 9,
   "metadata": {},
   "outputs": [],
   "source": [
    "prob = pulp.LpProblem('Minimizing-Tata-Sky-spend', pulp.LpMinimize)\n",
    "\n",
    "### Lists of decision variables and constraints  \n",
    "decision_variables = [] \n",
    "constraints = []\n",
    "\n",
    "ch_map = {} # Dictionary to map between variable names - x0, x1 - and the channels they represent\n",
    "pack_map = {} # Dictionary to map between pack variable names - c0, c1 - and the packs they represent\n",
    "rev_pack_map = {} # Reverse of the above dictionary \n",
    "\n",
    "ch_count = 0\n",
    "pack_count = 0 \n",
    "\n",
    "\n",
    "total_cost = \"\"\n",
    "\n",
    "### Iterate over all selected channels and add them, and the packs that contain \n",
    "### said channel, to the objective and constraint functions \n",
    "for idx,x in lp_data.loc[lp_data['Channel Name'].isin(lp_channels)].iterrows():\n",
    "    temp_contraint = \"\"\n",
    "    \n",
    "    #Creating variables for standalone channels \n",
    "    variable_str = str('x' + str(ch_count))\n",
    "    ch_count += 1\n",
    "    variable = pulp.LpVariable(str(variable_str), lowBound = 0, upBound = 1, cat= 'Integer')\n",
    "    decision_variables.append(variable)\n",
    "    ch_map.update({variable_str : x['Channel Name']})\n",
    "    \n",
    "    #Adding standalone channel to cost \n",
    "    formula = x['MRP_Tax']*variable\n",
    "    total_cost += formula\n",
    "    \n",
    "    # Adding channel\n",
    "    temp_contraint += 1*variable\n",
    "    \n",
    "    \n",
    "    \n",
    "    for p in x['Packs']:\n",
    "        \n",
    "        ### Check if pack already exists. This is important because if both x0 and x1 are contained in\n",
    "        ### a particular pack, we don't want to create two seperate pack decision variables for it. \n",
    "        if p[0] not in rev_pack_map:\n",
    "            \n",
    "            # Creating variable for packs \n",
    "            variable_str = str('c' + str(pack_count))\n",
    "            pack_count += 1\n",
    "            variable = pulp.LpVariable(str(variable_str), lowBound = 0, upBound = 1, cat= 'Integer')\n",
    "            decision_variables.append(variable)\n",
    "            pack_map.update({variable_str : p[0]})\n",
    "            rev_pack_map.update({p[0]:variable_str})\n",
    "            \n",
    "            # Adding pack cost to cost \n",
    "            formula = pack_prices_dict[p[0]]*variable # Look up the pack price dictionary for... the price, naturally. \n",
    "            total_cost += formula\n",
    "            \n",
    "            # Adding pack as constraint \n",
    "            temp_contraint += 1*variable\n",
    "        \n",
    "        ### If pack decision variable has already been created, we use it instead \n",
    "        else:\n",
    "            t_var = [x for x in decision_variables if x.__str__() == rev_pack_map[p[0]]][0] # get lp variable object\n",
    "            temp_contraint += 1*t_var\n",
    "            \n",
    "    constraints.append(temp_contraint) # Adding constraint for a particular channel to the entire set of constraints\n"
   ]
  },
  {
   "cell_type": "code",
   "execution_count": 10,
   "metadata": {},
   "outputs": [],
   "source": [
    "prob += total_cost # Add objective function to the model \n",
    "for c in constraints: # Add constraints individually to the model \n",
    "    prob += (c >= 1) "
   ]
  },
  {
   "cell_type": "code",
   "execution_count": 11,
   "metadata": {},
   "outputs": [],
   "source": [
    "optimization_result = prob.solve() "
   ]
  },
  {
   "cell_type": "code",
   "execution_count": 45,
   "metadata": {},
   "outputs": [
    {
     "name": "stdout",
     "output_type": "stream",
     "text": [
      "Status: Optimal\n",
      "Optimal Solution to the problem:  737.05\n",
      "Individual decision_variables: \n",
      "PACK --  Hindi News = 1.0\n",
      "PACK --  Hindi Movies Mini = 1.0\n",
      "PACK --  Kids = 1.0\n",
      "PACK --  Knowledge & Lifestyle = 1.0\n",
      "PACK --  Hindi Entertainment Mini = 1.0\n",
      "PACK --  English News = 1.0\n",
      "Zoom = 1.0\n",
      "News18 Urdu = 1.0\n",
      "Baby TV HD = 1.0\n",
      "&TV = 1.0\n",
      "WB = 1.0\n",
      "News18 Assam North East = 1.0\n",
      "Star Plus HD = 1.0\n",
      "Zee TV HD = 1.0\n",
      "Aaj Tak HD = 1.0\n",
      "Star Sports 1 HD = 1.0\n",
      "Star Gold HD = 1.0\n",
      "SET = 1.0\n",
      "Colors = 1.0\n",
      "News18 Kerala = 1.0\n",
      "Sony Aath = 1.0\n",
      "Star Sports 1 = 1.0\n",
      "Colors Cineplex HD = 1.0\n",
      "Sony Max HD = 1.0\n",
      "Colors HD = 1.0\n",
      "SET HD = 1.0\n",
      "Zee Cinema HD = 1.0\n",
      "&pictures HD = 1.0\n",
      "Sony SAB HD = 1.0\n",
      "DSport = 1.0\n",
      "Zee ETC = 1.0\n",
      "Zing = 1.0\n",
      "Sony Mix = 1.0\n",
      "History TV18 HD = 1.0\n",
      "Nick HD+ = 1.0\n",
      "Zee Salaam = 1.0\n",
      "Nat Geo Wild HD = 1.0\n",
      "National Geographic HD = 1.0\n",
      "News18 Bihar Jharkhand = 1.0\n",
      "Living Foodz HD = 1.0\n",
      "Star Sports 2 = 1.0\n",
      "Star Sports First = 1.0\n",
      "Star Sports 2 HD = 1.0\n",
      "Vh1 = 1.0\n",
      "VH1 HD = 1.0\n",
      "Animal Planet HD World = 1.0\n",
      "TLC HD = 1.0\n",
      "Discovery HD World = 1.0\n",
      "Star Sports 3 = 1.0\n",
      "Sony BBC Earth HD = 1.0\n",
      "News18 Uttar Pradesh Uttarakhand = 1.0\n",
      "News18 Rajasthan = 1.0\n",
      "News18 Madhya Pradesh Chhattisgarh = 1.0\n",
      "TravelXP HD = 1.0\n",
      "Zee Keralam = 1.0\n",
      "MTV Beats = 1.0\n",
      "Sony Ten 3 HD = 1.0\n",
      "MTV Beats HD = 1.0\n",
      "Sony Ten 3 = 1.0\n",
      "Fox Life HD = 1.0\n",
      "Times Now World (HD) = 1.0\n",
      "Zee Keralam HD = 1.0\n",
      "Colors Cineplex = 1.0\n",
      "CNBC TV18 Prime HD = 1.0\n",
      "News18 Tamil Nadu = 1.0\n"
     ]
    }
   ],
   "source": [
    "all_channels_df = pd.DataFrame() # Some basic validation. If a standalone channel is already in the pack, that implies \n",
    "# the result is not optimal. \n",
    "print(\"Status:\", LpStatus[prob.status])\n",
    "print(\"Optimal Solution to the problem: \", round(value(prob.objective),2))\n",
    "print (\"Individual decision_variables: \")\n",
    "for v in prob.variables():\n",
    "    if v.varValue == 1:\n",
    "        if v.name in pack_map.keys():\n",
    "            print(\"PACK -- \",pack_map[v.name], \"=\", v.varValue)\n",
    "            all_channels_df = all_channels_df.append(final_packs[final_packs['pack_name']== pack_map[v.name]])\n",
    "            \n",
    "for v in prob.variables():\n",
    "    if v.varValue == 1:\n",
    "        if v.name not in pack_map.keys():\n",
    "            print(ch_map[v.name], \"=\", v.varValue)\n",
    "            if all_channels_df[all_channels_df['Channel/Service Name'].isin([ch_map[v.name]])].shape[0] > 0:\n",
    "                print(f\"Error!!! : {ch_map[v.name]}\")"
   ]
  },
  {
   "cell_type": "code",
   "execution_count": null,
   "metadata": {},
   "outputs": [],
   "source": []
  }
 ],
 "metadata": {
  "kernelspec": {
   "display_name": "Python 3",
   "language": "python",
   "name": "python3"
  },
  "language_info": {
   "codemirror_mode": {
    "name": "ipython",
    "version": 3
   },
   "file_extension": ".py",
   "mimetype": "text/x-python",
   "name": "python",
   "nbconvert_exporter": "python",
   "pygments_lexer": "ipython3",
   "version": "3.7.3"
  }
 },
 "nbformat": 4,
 "nbformat_minor": 2
}
